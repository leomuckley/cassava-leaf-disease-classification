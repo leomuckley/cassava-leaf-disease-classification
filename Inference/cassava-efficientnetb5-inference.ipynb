{
 "cells": [
  {
   "cell_type": "markdown",
   "metadata": {
    "papermill": {
     "duration": 0.011804,
     "end_time": "2020-12-10T15:09:13.697399",
     "exception": false,
     "start_time": "2020-12-10T15:09:13.685595",
     "status": "completed"
    },
    "tags": []
   },
   "source": [
    "<center><img src=\"https://raw.githubusercontent.com/dimitreOliveira/MachineLearning/master/Kaggle/Cassava%20Leaf%20Disease%20Classification/banner.png\" width=\"1000\"></center>\n",
    "<br>\n",
    "<center><h1>Cassava Leaf Disease - TPU Tensorflow - Inference</h1></center>\n",
    "<br>\n",
    "\n",
    "- This is the inference part of the work, the training notebook can be found here [Cassava Leaf Disease - TPU Tensorflow - Training](https://www.kaggle.com/dimitreoliveira/cassava-leaf-disease-tpu-tensorflow-training)\n",
    "- keras-applications GitHub repository can be found [here](https://www.kaggle.com/dimitreoliveira/kerasapplications)\n",
    "- efficientnet GitHub repository can be found [here](https://www.kaggle.com/dimitreoliveira/efficientnet-git)\n",
    "- Dataset source `resized` [128x128](https://www.kaggle.com/dimitreoliveira/cassava-leaf-disease-tfrecords-128x128), [256x256](https://www.kaggle.com/dimitreoliveira/cassava-leaf-disease-tfrecords-256x256), [384x384](https://www.kaggle.com/dimitreoliveira/cassava-leaf-disease-tfrecords-384x384), [512x512](https://www.kaggle.com/dimitreoliveira/cassava-leaf-disease-tfrecords-512x512)\n",
    "- Dataset source `center cropped` [128x128](https://www.kaggle.com/dimitreoliveira/cassava-leaf-disease-tfrecords-center-128x128), [256x256](https://www.kaggle.com/dimitreoliveira/cassava-leaf-disease-tfrecords-center-256x256), [384x384](https://www.kaggle.com/dimitreoliveira/cassava-leaf-disease-tfrecords-center-384x384), [512x512](https://www.kaggle.com/dimitreoliveira/cassava-leaf-disease-tfrecords-center-512x512)\n",
    "- Dataset source [discussion thread](https://www.kaggle.com/c/cassava-leaf-disease-classification/discussion/198744)\n",
    "- Dataset [creation source](https://www.kaggle.com/dimitreoliveira/cassava-leaf-disease-stratified-tfrecords-256x256)"
   ]
  },
  {
   "cell_type": "markdown",
   "metadata": {
    "papermill": {
     "duration": 0.010534,
     "end_time": "2020-12-10T15:09:13.719476",
     "exception": false,
     "start_time": "2020-12-10T15:09:13.708942",
     "status": "completed"
    },
    "tags": []
   },
   "source": [
    "## Dependencies"
   ]
  },
  {
   "cell_type": "code",
   "execution_count": 1,
   "metadata": {
    "_kg_hide-input": true,
    "execution": {
     "iopub.execute_input": "2020-12-10T15:09:13.747295Z",
     "iopub.status.busy": "2020-12-10T15:09:13.746357Z",
     "iopub.status.idle": "2020-12-10T15:10:11.298733Z",
     "shell.execute_reply": "2020-12-10T15:10:11.299315Z"
    },
    "papermill": {
     "duration": 57.569316,
     "end_time": "2020-12-10T15:10:11.299506",
     "exception": false,
     "start_time": "2020-12-10T15:09:13.730190",
     "status": "completed"
    },
    "tags": []
   },
   "outputs": [],
   "source": [
    "!pip install --quiet /kaggle/input/kerasapplications\n",
    "#!pip install efficientnet --quiet\n",
    "!pip install --quiet /kaggle/input/efficientnet-git/\n"
   ]
  },
  {
   "cell_type": "code",
   "execution_count": 2,
   "metadata": {
    "_cell_guid": "b1076dfc-b9ad-4769-8c92-a6c4dae69d19",
    "_kg_hide-input": true,
    "_kg_hide-output": true,
    "_uuid": "8f2839f25d086af736a60e9eeb907d3b93b6e0e5",
    "execution": {
     "iopub.execute_input": "2020-12-10T15:10:11.332231Z",
     "iopub.status.busy": "2020-12-10T15:10:11.331425Z",
     "iopub.status.idle": "2020-12-10T15:10:16.933411Z",
     "shell.execute_reply": "2020-12-10T15:10:16.932856Z"
    },
    "papermill": {
     "duration": 5.621639,
     "end_time": "2020-12-10T15:10:16.933544",
     "exception": false,
     "start_time": "2020-12-10T15:10:11.311905",
     "status": "completed"
    },
    "tags": []
   },
   "outputs": [],
   "source": [
    "import math, os, re, warnings, random, glob\n",
    "import numpy as np\n",
    "import pandas as pd\n",
    "import tensorflow as tf\n",
    "import tensorflow.keras.layers as L\n",
    "import tensorflow.keras.backend as K\n",
    "from tensorflow.keras import Sequential\n",
    "import efficientnet.tfkeras as efn\n",
    "\n",
    "def seed_everything(seed=0):\n",
    "    random.seed(seed)\n",
    "    np.random.seed(seed)\n",
    "    tf.random.set_seed(seed)\n",
    "    os.environ['PYTHONHASHSEED'] = str(seed)\n",
    "    os.environ['TF_DETERMINISTIC_OPS'] = '1'\n",
    "\n",
    "seed = 0\n",
    "seed_everything(seed)\n",
    "warnings.filterwarnings('ignore')"
   ]
  },
  {
   "cell_type": "markdown",
   "metadata": {
    "papermill": {
     "duration": 0.012876,
     "end_time": "2020-12-10T15:10:16.961001",
     "exception": false,
     "start_time": "2020-12-10T15:10:16.948125",
     "status": "completed"
    },
    "tags": []
   },
   "source": [
    "### Hardware configuration"
   ]
  },
  {
   "cell_type": "code",
   "execution_count": 3,
   "metadata": {
    "_kg_hide-input": true,
    "execution": {
     "iopub.execute_input": "2020-12-10T15:10:16.992767Z",
     "iopub.status.busy": "2020-12-10T15:10:16.992110Z",
     "iopub.status.idle": "2020-12-10T15:10:17.001812Z",
     "shell.execute_reply": "2020-12-10T15:10:17.002503Z"
    },
    "papermill": {
     "duration": 0.028365,
     "end_time": "2020-12-10T15:10:17.002679",
     "exception": false,
     "start_time": "2020-12-10T15:10:16.974314",
     "status": "completed"
    },
    "tags": []
   },
   "outputs": [
    {
     "name": "stdout",
     "output_type": "stream",
     "text": [
      "REPLICAS: 1\n"
     ]
    }
   ],
   "source": [
    "# TPU or GPU detection\n",
    "# Detect hardware, return appropriate distribution strategy\n",
    "try:\n",
    "    tpu = tf.distribute.cluster_resolver.TPUClusterResolver()\n",
    "    print(f'Running on TPU {tpu.master()}')\n",
    "except ValueError:\n",
    "    tpu = None\n",
    "\n",
    "if tpu:\n",
    "    tf.config.experimental_connect_to_cluster(tpu)\n",
    "    tf.tpu.experimental.initialize_tpu_system(tpu)\n",
    "    strategy = tf.distribute.experimental.TPUStrategy(tpu)\n",
    "else:\n",
    "    strategy = tf.distribute.get_strategy()\n",
    "\n",
    "AUTO = tf.data.experimental.AUTOTUNE\n",
    "REPLICAS = strategy.num_replicas_in_sync\n",
    "print(f'REPLICAS: {REPLICAS}')"
   ]
  },
  {
   "cell_type": "markdown",
   "metadata": {
    "papermill": {
     "duration": 0.011176,
     "end_time": "2020-12-10T15:10:17.026507",
     "exception": false,
     "start_time": "2020-12-10T15:10:17.015331",
     "status": "completed"
    },
    "tags": []
   },
   "source": [
    "# Model parameters"
   ]
  },
  {
   "cell_type": "code",
   "execution_count": 4,
   "metadata": {
    "execution": {
     "iopub.execute_input": "2020-12-10T15:10:17.054136Z",
     "iopub.status.busy": "2020-12-10T15:10:17.053575Z",
     "iopub.status.idle": "2020-12-10T15:10:17.057595Z",
     "shell.execute_reply": "2020-12-10T15:10:17.057134Z"
    },
    "papermill": {
     "duration": 0.019744,
     "end_time": "2020-12-10T15:10:17.057696",
     "exception": false,
     "start_time": "2020-12-10T15:10:17.037952",
     "status": "completed"
    },
    "tags": []
   },
   "outputs": [],
   "source": [
    "BATCH_SIZE = 16 * REPLICAS\n",
    "HEIGHT = 512\n",
    "WIDTH = 512 \n",
    "CHANNELS = 3\n",
    "N_CLASSES = 5\n",
    "TTA_STEPS = 3 # Do TTA if > 0 "
   ]
  },
  {
   "cell_type": "markdown",
   "metadata": {
    "papermill": {
     "duration": 0.011081,
     "end_time": "2020-12-10T15:10:17.080197",
     "exception": false,
     "start_time": "2020-12-10T15:10:17.069116",
     "status": "completed"
    },
    "tags": []
   },
   "source": [
    "# Augmentation"
   ]
  },
  {
   "cell_type": "code",
   "execution_count": 5,
   "metadata": {
    "_kg_hide-input": false,
    "execution": {
     "iopub.execute_input": "2020-12-10T15:10:17.112889Z",
     "iopub.status.busy": "2020-12-10T15:10:17.111166Z",
     "iopub.status.idle": "2020-12-10T15:10:17.113515Z",
     "shell.execute_reply": "2020-12-10T15:10:17.113940Z"
    },
    "papermill": {
     "duration": 0.022624,
     "end_time": "2020-12-10T15:10:17.114038",
     "exception": false,
     "start_time": "2020-12-10T15:10:17.091414",
     "status": "completed"
    },
    "tags": []
   },
   "outputs": [],
   "source": [
    "def data_augment(image, label):\n",
    "    p_spatial = tf.random.uniform([], 0, 1.0, dtype=tf.float32)\n",
    "    p_rotate = tf.random.uniform([], 0, 1.0, dtype=tf.float32)\n",
    "    p_crop = tf.random.uniform([], 0, 1.0, dtype=tf.float32)\n",
    "    \n",
    "    # Flips\n",
    "    image = tf.image.random_flip_left_right(image)\n",
    "    image = tf.image.random_flip_up_down(image)\n",
    "    if p_spatial > .75:\n",
    "        image = tf.image.transpose(image)\n",
    "    # Rotates\n",
    "    if p_rotate > .75:\n",
    "        image = tf.image.rot90(image, k=3) # rotate 270º\n",
    "    elif p_rotate > .5:\n",
    "        image = tf.image.rot90(image, k=2) # rotate 180º\n",
    "    elif p_rotate > .25:\n",
    "        image = tf.image.rot90(image, k=1) # rotate 90º\n",
    "        \n",
    "    return image, label"
   ]
  },
  {
   "cell_type": "markdown",
   "metadata": {
    "papermill": {
     "duration": 0.01118,
     "end_time": "2020-12-10T15:10:17.136498",
     "exception": false,
     "start_time": "2020-12-10T15:10:17.125318",
     "status": "completed"
    },
    "tags": []
   },
   "source": [
    "## Auxiliary functions"
   ]
  },
  {
   "cell_type": "code",
   "execution_count": 6,
   "metadata": {
    "_cell_guid": "79c7e3d0-c299-4dcb-8224-4455121ee9b0",
    "_kg_hide-input": true,
    "_uuid": "d629ff2d2480ee46fbb7e2d37f6b5fab8052498a",
    "execution": {
     "iopub.execute_input": "2020-12-10T15:10:17.175925Z",
     "iopub.status.busy": "2020-12-10T15:10:17.174751Z",
     "iopub.status.idle": "2020-12-10T15:10:17.177672Z",
     "shell.execute_reply": "2020-12-10T15:10:17.177244Z"
    },
    "papermill": {
     "duration": 0.029964,
     "end_time": "2020-12-10T15:10:17.177811",
     "exception": false,
     "start_time": "2020-12-10T15:10:17.147847",
     "status": "completed"
    },
    "tags": []
   },
   "outputs": [],
   "source": [
    "# Datasets utility functions\n",
    "def get_name(file_path):\n",
    "    parts = tf.strings.split(file_path, os.path.sep)\n",
    "    name = parts[-1]\n",
    "    return name\n",
    "\n",
    "def decode_image(image_data):\n",
    "    image = tf.image.decode_jpeg(image_data, channels=3)\n",
    "    image = tf.cast(image, tf.float32) / 255.0\n",
    "    \n",
    "    image = tf.reshape(image, [600, 800, CHANNELS])\n",
    "    image = center_crop(image)\n",
    "    \n",
    "    image = tf.image.resize(image, [HEIGHT, WIDTH])\n",
    "    return image\n",
    "\n",
    "def center_crop(image):\n",
    "    h, w = image.shape[0], image.shape[1]\n",
    "    if h > w:\n",
    "        image = tf.image.crop_to_bounding_box(image, (h - w) // 2, 0, w, w)\n",
    "    else:\n",
    "        image = tf.image.crop_to_bounding_box(image, 0, (w - h) // 2, h, h)\n",
    "    return image\n",
    "\n",
    "def resize_image(image, label):\n",
    "    image = tf.image.resize(image, [HEIGHT, WIDTH])\n",
    "    image = tf.reshape(image, [HEIGHT, WIDTH, CHANNELS])\n",
    "    return image, label\n",
    "\n",
    "def process_path(file_path):\n",
    "    name = get_name(file_path)\n",
    "    img = tf.io.read_file(file_path)\n",
    "    img = decode_image(img)\n",
    "    return img, name\n",
    "\n",
    "def get_dataset(files_path, shuffled=False, tta=False, extension='jpg'):\n",
    "    dataset = tf.data.Dataset.list_files(f'{files_path}*{extension}', shuffle=shuffled)\n",
    "    dataset = dataset.map(process_path, num_parallel_calls=AUTO)\n",
    "    if tta:\n",
    "        dataset = dataset.map(data_augment, num_parallel_calls=AUTO)\n",
    "    dataset = dataset.map(resize_image, num_parallel_calls=AUTO)\n",
    "    dataset = dataset.batch(BATCH_SIZE)\n",
    "    dataset = dataset.prefetch(AUTO)\n",
    "    return dataset\n",
    "\n",
    "def count_data_items(filenames):\n",
    "    n = [int(re.compile(r\"-([0-9]*)\\.\").search(filename).group(1)) for filename in filenames]\n",
    "    return np.sum(n)"
   ]
  },
  {
   "cell_type": "markdown",
   "metadata": {
    "papermill": {
     "duration": 0.011178,
     "end_time": "2020-12-10T15:10:17.200302",
     "exception": false,
     "start_time": "2020-12-10T15:10:17.189124",
     "status": "completed"
    },
    "tags": []
   },
   "source": [
    "# Load data"
   ]
  },
  {
   "cell_type": "code",
   "execution_count": 7,
   "metadata": {
    "_kg_hide-input": true,
    "execution": {
     "iopub.execute_input": "2020-12-10T15:10:17.231155Z",
     "iopub.status.busy": "2020-12-10T15:10:17.230572Z",
     "iopub.status.idle": "2020-12-10T15:10:17.260907Z",
     "shell.execute_reply": "2020-12-10T15:10:17.260366Z"
    },
    "papermill": {
     "duration": 0.049324,
     "end_time": "2020-12-10T15:10:17.260989",
     "exception": false,
     "start_time": "2020-12-10T15:10:17.211665",
     "status": "completed"
    },
    "tags": []
   },
   "outputs": [
    {
     "data": {
      "text/html": [
       "<div>\n",
       "<style scoped>\n",
       "    .dataframe tbody tr th:only-of-type {\n",
       "        vertical-align: middle;\n",
       "    }\n",
       "\n",
       "    .dataframe tbody tr th {\n",
       "        vertical-align: top;\n",
       "    }\n",
       "\n",
       "    .dataframe thead th {\n",
       "        text-align: right;\n",
       "    }\n",
       "</style>\n",
       "<table border=\"1\" class=\"dataframe\">\n",
       "  <thead>\n",
       "    <tr style=\"text-align: right;\">\n",
       "      <th></th>\n",
       "      <th>image_id</th>\n",
       "      <th>label</th>\n",
       "    </tr>\n",
       "  </thead>\n",
       "  <tbody>\n",
       "    <tr>\n",
       "      <th>0</th>\n",
       "      <td>2216849948.jpg</td>\n",
       "      <td>4</td>\n",
       "    </tr>\n",
       "  </tbody>\n",
       "</table>\n",
       "</div>"
      ],
      "text/plain": [
       "         image_id  label\n",
       "0  2216849948.jpg      4"
      ]
     },
     "metadata": {},
     "output_type": "display_data"
    },
    {
     "name": "stdout",
     "output_type": "stream",
     "text": [
      "GCS: test: 1\n"
     ]
    }
   ],
   "source": [
    "database_base_path = '/kaggle/input/cassava-leaf-disease-classification/'\n",
    "submission = pd.read_csv(f'{database_base_path}sample_submission.csv')\n",
    "display(submission.head())\n",
    "\n",
    "TEST_FILENAMES = tf.io.gfile.glob(f'{database_base_path}test_tfrecords/ld_test*.tfrec')\n",
    "NUM_TEST_IMAGES = count_data_items(TEST_FILENAMES)\n",
    "print(f'GCS: test: {NUM_TEST_IMAGES}')"
   ]
  },
  {
   "cell_type": "code",
   "execution_count": 8,
   "metadata": {
    "_kg_hide-input": true,
    "execution": {
     "iopub.execute_input": "2020-12-10T15:10:17.288881Z",
     "iopub.status.busy": "2020-12-10T15:10:17.288347Z",
     "iopub.status.idle": "2020-12-10T15:10:17.299833Z",
     "shell.execute_reply": "2020-12-10T15:10:17.299377Z"
    },
    "papermill": {
     "duration": 0.026867,
     "end_time": "2020-12-10T15:10:17.299922",
     "exception": false,
     "start_time": "2020-12-10T15:10:17.273055",
     "status": "completed"
    },
    "tags": []
   },
   "outputs": [
    {
     "name": "stdout",
     "output_type": "stream",
     "text": [
      "Models to predict:\n",
      "/kaggle/input/cassava-effnetb5-models3/new-effnetb5-v3.h5\n"
     ]
    }
   ],
   "source": [
    "model_path_list = glob.glob('/kaggle/input/cassava-effnetb5-models3/*.h5')\n",
    "model_path_list.sort()\n",
    "\n",
    "print('Models to predict:')\n",
    "print(*model_path_list, sep='\\n')"
   ]
  },
  {
   "cell_type": "markdown",
   "metadata": {
    "papermill": {
     "duration": 0.012196,
     "end_time": "2020-12-10T15:10:17.324909",
     "exception": false,
     "start_time": "2020-12-10T15:10:17.312713",
     "status": "completed"
    },
    "tags": []
   },
   "source": [
    "# Model"
   ]
  },
  {
   "cell_type": "code",
   "execution_count": 9,
   "metadata": {
    "execution": {
     "iopub.execute_input": "2020-12-10T15:10:17.355726Z",
     "iopub.status.busy": "2020-12-10T15:10:17.355185Z",
     "iopub.status.idle": "2020-12-10T15:10:32.970671Z",
     "shell.execute_reply": "2020-12-10T15:10:32.969806Z"
    },
    "papermill": {
     "duration": 15.633404,
     "end_time": "2020-12-10T15:10:32.970790",
     "exception": false,
     "start_time": "2020-12-10T15:10:17.337386",
     "status": "completed"
    },
    "tags": []
   },
   "outputs": [
    {
     "name": "stdout",
     "output_type": "stream",
     "text": [
      "Model: \"sequential\"\n",
      "_________________________________________________________________\n",
      "Layer (type)                 Output Shape              Param #   \n",
      "=================================================================\n",
      "batch_normalization (BatchNo multiple                  21        \n",
      "_________________________________________________________________\n",
      "efficientnet-b5 (Model)      (None, 16, 16, 2048)      28513520  \n",
      "_________________________________________________________________\n",
      "global_average_pooling2d (Gl multiple                  0         \n",
      "_________________________________________________________________\n",
      "dense (Dense)                multiple                  16392     \n",
      "_________________________________________________________________\n",
      "dense_1 (Dense)              multiple                  45        \n",
      "=================================================================\n",
      "Total params: 28,529,978\n",
      "Trainable params: 16,443\n",
      "Non-trainable params: 28,513,535\n",
      "_________________________________________________________________\n"
     ]
    }
   ],
   "source": [
    "def model_fn(input_shape, N_CLASSES):\n",
    "    input_image = L.Input(shape=input_shape, name='input_image')\n",
    "#     base_model = efn.EfficientNetB4(input_tensor=input_image, \n",
    "#                                     include_top=False, \n",
    "#                                     weights=None, \n",
    "#                                     pooling='avg')\n",
    "\n",
    "    base_model = tf.keras.models.load_model(*model_path_list)\n",
    "\n",
    "#     model = tf.keras.Sequential([\n",
    "#         base_model,\n",
    "#         L.Dropout(.10),\n",
    "#         L.Dense(N_CLASSES, activation='softmax', name='output')\n",
    "#     ])\n",
    "#     effnet_layers = efn.EfficientNetB5(weights=None, include_top=False, input_shape=input_shape)\n",
    "#     effnet_layers.load_weights(\"../input/cassava-modelsv2/cassava-effnetb5-v2.h5\")\n",
    "\n",
    "#     for layer in effnet_layers.layers:\n",
    "#         layer.trainable = False\n",
    "\n",
    "#     model = Sequential()\n",
    "#     model.add(effnet_layers)\n",
    "#     model.add(Dropout(0.10))\n",
    "#     model.add(Dense(N_CLASSES, activation=\"softmax\", name=\"output\"))\n",
    "    \n",
    "    return base_model\n",
    "\n",
    "\n",
    "with strategy.scope():\n",
    "    model = model_fn((None, None, CHANNELS), N_CLASSES)\n",
    "    \n",
    "model.summary()"
   ]
  },
  {
   "cell_type": "markdown",
   "metadata": {
    "papermill": {
     "duration": 0.012656,
     "end_time": "2020-12-10T15:10:32.996582",
     "exception": false,
     "start_time": "2020-12-10T15:10:32.983926",
     "status": "completed"
    },
    "tags": []
   },
   "source": [
    "# Test set predictions"
   ]
  },
  {
   "cell_type": "code",
   "execution_count": 10,
   "metadata": {
    "_kg_hide-input": false,
    "execution": {
     "iopub.execute_input": "2020-12-10T15:10:33.031129Z",
     "iopub.status.busy": "2020-12-10T15:10:33.030573Z",
     "iopub.status.idle": "2020-12-10T15:10:43.117921Z",
     "shell.execute_reply": "2020-12-10T15:10:43.119131Z"
    },
    "papermill": {
     "duration": 10.109848,
     "end_time": "2020-12-10T15:10:43.119323",
     "exception": false,
     "start_time": "2020-12-10T15:10:33.009475",
     "status": "completed"
    },
    "tags": []
   },
   "outputs": [
    {
     "name": "stdout",
     "output_type": "stream",
     "text": [
      "/kaggle/input/cassava-effnetb5-models3/new-effnetb5-v3.h5\n",
      "TTA step 1/3\n",
      "TTA step 2/3\n",
      "TTA step 3/3\n"
     ]
    }
   ],
   "source": [
    "files_path = f'{database_base_path}/test_images/'\n",
    "test_preds = np.zeros((len(os.listdir(files_path)), N_CLASSES))\n",
    "\n",
    "\n",
    "for model_path in model_path_list:\n",
    "    print(model_path)\n",
    "    K.clear_session()\n",
    "    model.load_weights(model_path)\n",
    "\n",
    "    if TTA_STEPS > 0:\n",
    "        test_ds = get_dataset(files_path, tta=True)\n",
    "        for step in range(TTA_STEPS):\n",
    "            print(f'TTA step {step+1}/{TTA_STEPS}')\n",
    "            x_test = test_ds.map(lambda image, image_name: image)\n",
    "            test_preds += model.predict(x_test) / (TTA_STEPS * len(model_path_list))\n",
    "    else:\n",
    "        test_ds = get_dataset(files_path, tta=False)\n",
    "        x_test = test_ds.map(lambda image, image_name: image)\n",
    "        test_preds += model.predict(x_test) / len(model_path_list)\n",
    "    \n",
    "test_preds = np.argmax(test_preds, axis=-1)\n",
    "image_names = [img_name.numpy().decode('utf-8') for img, img_name in iter(test_ds.unbatch())]"
   ]
  },
  {
   "cell_type": "code",
   "execution_count": 11,
   "metadata": {
    "_kg_hide-input": true,
    "execution": {
     "iopub.execute_input": "2020-12-10T15:10:43.160717Z",
     "iopub.status.busy": "2020-12-10T15:10:43.159952Z",
     "iopub.status.idle": "2020-12-10T15:10:43.215590Z",
     "shell.execute_reply": "2020-12-10T15:10:43.215152Z"
    },
    "papermill": {
     "duration": 0.076446,
     "end_time": "2020-12-10T15:10:43.215702",
     "exception": false,
     "start_time": "2020-12-10T15:10:43.139256",
     "status": "completed"
    },
    "tags": []
   },
   "outputs": [
    {
     "data": {
      "text/html": [
       "<div>\n",
       "<style scoped>\n",
       "    .dataframe tbody tr th:only-of-type {\n",
       "        vertical-align: middle;\n",
       "    }\n",
       "\n",
       "    .dataframe tbody tr th {\n",
       "        vertical-align: top;\n",
       "    }\n",
       "\n",
       "    .dataframe thead th {\n",
       "        text-align: right;\n",
       "    }\n",
       "</style>\n",
       "<table border=\"1\" class=\"dataframe\">\n",
       "  <thead>\n",
       "    <tr style=\"text-align: right;\">\n",
       "      <th></th>\n",
       "      <th>image_id</th>\n",
       "      <th>label</th>\n",
       "    </tr>\n",
       "  </thead>\n",
       "  <tbody>\n",
       "    <tr>\n",
       "      <th>0</th>\n",
       "      <td>2216849948.jpg</td>\n",
       "      <td>3</td>\n",
       "    </tr>\n",
       "  </tbody>\n",
       "</table>\n",
       "</div>"
      ],
      "text/plain": [
       "         image_id  label\n",
       "0  2216849948.jpg      3"
      ]
     },
     "metadata": {},
     "output_type": "display_data"
    }
   ],
   "source": [
    "submission = pd.DataFrame({'image_id': image_names, 'label': test_preds})\n",
    "submission.to_csv('submission.csv', index=False)\n",
    "display(submission.head())"
   ]
  }
 ],
 "metadata": {
  "kernelspec": {
   "display_name": "Python 3",
   "language": "python",
   "name": "python3"
  },
  "language_info": {
   "codemirror_mode": {
    "name": "ipython",
    "version": 3
   },
   "file_extension": ".py",
   "mimetype": "text/x-python",
   "name": "python",
   "nbconvert_exporter": "python",
   "pygments_lexer": "ipython3",
   "version": "3.7.6"
  },
  "papermill": {
   "duration": 94.782889,
   "end_time": "2020-12-10T15:10:44.741133",
   "environment_variables": {},
   "exception": null,
   "input_path": "__notebook__.ipynb",
   "output_path": "__notebook__.ipynb",
   "parameters": {},
   "start_time": "2020-12-10T15:09:09.958244",
   "version": "2.1.0"
  }
 },
 "nbformat": 4,
 "nbformat_minor": 4
}
